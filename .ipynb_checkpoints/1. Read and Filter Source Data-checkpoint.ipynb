{
 "cells": [
  {
   "attachments": {},
   "cell_type": "markdown",
   "metadata": {},
   "source": [
    "# Read and Filter Source Data\n",
    "\n",
    "The U.S. General Service Administration (GSA) maintains a repository of data describing entities (companies, organizations) registered to conduct busines with the Federal Government. The System for Award Management (SAM) represents a public interface to the repository at [SAM.gov](https://www.sam.gov/SAM/). The [Data Access](https://www.sam.gov/SAM/pages/public/extracts/samPublicAccessData.jsf) page provides links to an publicly available extract of the data published monthly along with a [Public Extract Layout](https://www.sam.gov/SAM/transcript/SAM_Entity_Management_Public_Extract_Layout_v1.1.pdf) specification. The [SAM Functional Data Dictionary]() provides additional field definitions.\n",
    "\n",
    "This notebook reads the pipe delimited `.dat` file, filters out some columns and rows, and saves the resulting information to a new `.csv` file.\n"
   ]
  },
  {
   "cell_type": "markdown",
   "metadata": {},
   "source": [
    "## Preliminaries\n",
    "\n",
    "Import libraries and modules:"
   ]
  },
  {
   "cell_type": "code",
   "execution_count": 32,
   "metadata": {},
   "outputs": [],
   "source": [
    "import pandas as pd"
   ]
  },
  {
   "cell_type": "markdown",
   "metadata": {},
   "source": [
    "Specify the name of the source data file:"
   ]
  },
  {
   "cell_type": "code",
   "execution_count": 33,
   "metadata": {},
   "outputs": [],
   "source": [
    "inFileName = \"SAM_PUBLIC_MONTHLY_20200202.dat\""
   ]
  },
  {
   "cell_type": "markdown",
   "metadata": {},
   "source": [
    "Since the source file does not contain a header row with column names, specify the names for use when reading in the file."
   ]
  },
  {
   "cell_type": "code",
   "execution_count": 34,
   "metadata": {},
   "outputs": [],
   "source": [
    "columnNames = ['DUNS', 'DUNS4', 'CAGE_CODE', 'DODAAC', 'SAM_EXTRACT_CODE', 'PURPOSE_OF_REGISTRATION', 'INITIAL_REGISTRATION_DATE', 'EXPIRATION_DATE', 'LAST_UPDATE_DATE', 'ACTIVATION_DATE', 'LEGAL_BUSINESS_NAME', 'DBA_NAME', 'COMPANY_DIVISION', 'DIVISION_NUMBER', 'PHYSICAL_ADDRESS_LINE_1', 'PHYSICAL_ADDRESS_LINE_2', 'PHYSICAL_ADDRESS_CITY', 'PHYSICAL_ADDRESS_PROVINCE_OR_STATE', 'PHYSICAL_ADDRESS_ZIP_POSTAL_CODE', 'PHYSICAL_ADDRESS_ZIP_CODE_4', 'PHYSICAL_ADDRESS_COUNTRY_CODE', 'ENTITY_CONGRESSIONAL_DISTRICT', 'BUSINESS_START_DATE', 'FISCAL_YEAR_END_CLOSE_DATE', 'CORPORATE_URL', 'ENTITY_STRUCTURE', 'STATE_OF_INCORPORATION', 'COUNTRY_OF_INCORPORATION', 'BUSINESS_TYPE_COUNTER', 'BUSINESS_TYPE_STRING', 'PRIMARY_NAICS', 'NAICS_CODE_COUNTER', 'NAICS_CODE_STRING', 'PSC_CODE_COUNTER', 'PSC_CODE_STRING', 'CREDIT_CARD_USAGE', 'CORRESPONDENCE_FLAG', 'MAILING_ADDRESS_LINE_1', 'MAILING_ADDRESS_LINE_2', 'MAILING_ADDRESS_CITY', 'MAILING_ADDRESS_ZIP_POSTAL_CODE', 'MAILING_ADDRESS_ZIP_CODE_4', 'MAILING_ADDRESS_COUNTRY', 'MAILING_ADDRESS_STATE_OR_PROVINCE', 'GOVT_BUS_POC_FIRST_NAME', 'GOVT_BUS_POC_MIDDLE_INITIAL', 'GOVT_BUS_POC_LAST_NAME', 'GOVT_BUS_POC_TITLE', 'GOVT_BUS_POC_ST_ADD_1', 'GOVT_BUS_POC_ST_ADD_2', 'GOVT_BUS_POC_CITY', 'GOVT_BUS_POC_ZIP_POSTAL_CODE', 'GOVT_BUS_POC_ZIP_CODE_4', 'GOVT_BUS_POC_COUNTRY_CODE', 'GOVT_BUS_POC_STATE_OR_PROVINCE', 'GOVT_BUS_POC_U.S._PHONE', 'GOVT_BUS_POC_U.S._PHONE_EXT', 'GOVT_BUS_POC_NON-U.S._PHONE', 'GOVT_BUS_POC_FAX_U.S._ONLY', 'GOVT_BUS_POC_EMAIL', 'ALT_GOVT_BUS_POC_FIRST_NAME', 'ALT_GOVT_BUS_POC_MIDDLE_INITIAL', 'ALT_GOVT_BUS_POC_LAST_NAME', 'ALT_GOVT_BUS_POC_TITLE', 'ALT_GOVT_BUS_POC_ST_ADD_1', 'ALT_GOVT_BUS_POC_ST_ADD_2', 'ALT_GOVT_BUS_POC_CITY', 'ALT_GOVT_BUS_POC_ZIP_POSTAL_CODE', 'ALT_GOVT_BUS_POC_ZIP_CODE_4', 'ALT_GOVT_BUS_POC_COUNTRY_CODE', 'ALT_GOVT_BUS_POC_STATE_OR_PROVINCE', 'ALT_GOVT_BUS_POC_U.S._PHONE', 'ALT_GOVT_BUS_POC_U.S._PHONE_EXT', 'ALT_GOVT_BUS_POC_NON-U.S._PHONE', 'ALT_GOVT_BUS_POC_FAX_U.S._ONLY', 'ALT_GOVT_BUS_POC_EMAIL', 'PAST_PERF_POC_POC__FIRST_NAME', 'PAST_PERF_POC_POC__MIDDLE_INITIAL', 'PAST_PERF_POC_POC__LAST_NAME', 'PAST_PERF_POC_POC__TITLE', 'PAST_PERF_POC_ST_ADD_1', 'PAST_PERF_POC_ST_ADD_2', 'PAST_PERF_POC_CITY', 'PAST_PERF_POC_ZIP_POSTAL_CODE', 'PAST_PERF_POC_ZIP_CODE_4', 'PAST_PERF_POC_COUNTRY_CODE', 'PAST_PERF_POC_STATE_OR_PROVINCE', 'PAST_PERF_POC_U.S._PHONE', 'PAST_PERF_POC_U.S._PHONE_EXT', 'PAST_PERF_POC_NON-U.S._PHONE', 'PAST_PERF_POC_FAX_U.S._ONLY', 'PAST_PERF_POC_EMAIL', 'ALT_PAST_PERF_POC_FIRST_NAME', 'ALT_PAST_PERF_POC_MIDDLE_INITIAL', 'ALT_PAST_PERF_POC_LAST_NAME', 'ALT_PAST_PERF_POC_TITLE', 'ALT_PAST_PERF_POC_ST_ADD_1', 'ALT_PAST_PERF_POC_ST_ADD_2', 'ALT_PAST_PERF_POC_CITY', 'ALT_PAST_PERF_POC_ZIP_POSTAL_CODE', 'ALT_PAST_PERF_POC_ZIP_CODE_4', 'ALT_PAST_PERF_POC_COUNTRY_CODE', 'ALT_PAST_PERF_POC_STATE_OR_PROVINCE', 'ALT_PAST_PERF_POC_U.S._PHONE', 'ALT_PAST_PERF_POC_U.S._PHONE_EXT', 'ALT_PAST_PERF_POC_NON-U.S._PHONE', 'ALT_PAST_PERF_POC_FAX_U.S._ONLY', 'ALT_PAST_PERF_POC_EMAIL', 'ELEC_BUS_POC_FIRST_NAME', 'ELEC_BUS_POC_MIDDLE_INITIAL', 'ELEC_BUS_POC_LAST_NAME', 'ELEC_BUS_POC_TITLE', 'ELEC_BUS_POC_ST_ADD_1', 'ELEC_BUS_POC_ST_ADD_2', 'ELEC_BUS_POC_CITY', 'ELEC_BUS_POC_ZIP_POSTAL_CODE', 'ELEC_BUS_POC_ZIP_CODE_4', 'ELEC_BUS_POC_COUNTRY_CODE', 'ELEC_BUS_POC_STATE_OR_PROVINCE', 'ELEC_BUS_POC_U.S._PHONE', 'ELEC_BUS_POC_U.S._PHONE_EXT', 'ELEC_BUS_POC_NON-U.S._PHONE', 'ELEC_BUS_POC_FAX_U.S._ONLY', 'ELEC_BUS_POC_EMAIL', 'ALT_ELEC_POC_BUS_POC_FIRST_NAME', 'ALT_ELEC_POC_BUS_POC_MIDDLE_INITIAL', 'ALT_ELEC_POC_BUS_POC_LAST_NAME', 'ALT_ELEC_POC_BUS_POC_TITLE', 'ALT_ELEC_POC_BUS_ST_ADD_1', 'ALT_ELEC_POC_BUS_ST_ADD_2', 'ALT_ELEC_POC_BUS_CITY', 'ALT_ELEC_POC_BUS_ZIP_POSTAL_CODE', 'ALT_ELEC_POC_BUS_ZIP_CODE_4', 'ALT_ELEC_POC_BUS_COUNTRY_CODE', 'ALT_ELEC_POC_BUS_STATE_OR_PROVINCE', 'ALT_ELEC_POC_BUS_U.S._PHONE', 'ALT_ELEC_POC_BUS_U.S._PHONE_EXT', 'ALT_ELEC_POC_BUS_NON-U.S._PHONE', 'ALT_ELEC_POC_BUS_FAX_U.S._ONLY', 'ALT_ELEC_POC_BUS_EMAIL', 'NAICS_EXCEPTION_COUNTER', 'NAICS_EXCEPTION_STRING', 'DEBT_SUBJECT_TO_OFFSET_FLAG', 'EXCLUSION_STATUS_FLAG', 'SBA_BUSINESS_TYPES_COUNTER', 'SBA_BUSINESS_TYPES_STRING', 'NO_PUBLIC_DISPLAY_FLAG', 'DISASTER_RESPONSE_COUNTER', 'DISASTER_RESPONSE_STRING', 'END_OF_RECORD']\n"
   ]
  },
  {
   "cell_type": "markdown",
   "metadata": {},
   "source": [
    "To eliminate any data type issues with this initial read, specify all columns as strings."
   ]
  },
  {
   "cell_type": "code",
   "execution_count": 35,
   "metadata": {},
   "outputs": [],
   "source": [
    "columnDTypes = { 'DUNS':str, 'DUNS4':str, 'CAGE_CODE':str, 'DODAAC':str, 'SAM_EXTRACT_CODE':str, 'PURPOSE_OF_REGISTRATION':str, 'INITIAL_REGISTRATION_DATE':str, 'EXPIRATION_DATE':str, 'LAST_UPDATE_DATE':str, 'ACTIVATION_DATE':str, 'LEGAL_BUSINESS_NAME':str, 'DBA_NAME':str, 'COMPANY_DIVISION':str, 'DIVISION_NUMBER':str, 'PHYSICAL_ADDRESS_LINE_1':str, 'PHYSICAL_ADDRESS_LINE_2':str, 'PHYSICAL_ADDRESS_CITY':str, 'PHYSICAL_ADDRESS_PROVINCE_OR_STATE':str, 'PHYSICAL_ADDRESS_ZIP_POSTAL_CODE':str, 'PHYSICAL_ADDRESS_ZIP_CODE_4':str, 'PHYSICAL_ADDRESS_COUNTRY_CODE':str, 'ENTITY_CONGRESSIONAL_DISTRICT':str, 'BUSINESS_START_DATE':str, 'FISCAL_YEAR_END_CLOSE_DATE':str, 'CORPORATE_URL':str, 'ENTITY_STRUCTURE':str, 'STATE_OF_INCORPORATION':str, 'COUNTRY_OF_INCORPORATION':str, 'BUSINESS_TYPE_COUNTER':str, 'BUSINESS_TYPE_STRING':str, 'PRIMARY_NAICS':str, 'NAICS_CODE_COUNTER':str, 'NAICS_CODE_STRING':str, 'PSC_CODE_COUNTER':str, 'PSC_CODE_STRING':str, 'CREDIT_CARD_USAGE':str, 'CORRESPONDENCE_FLAG':str, 'MAILING_ADDRESS_LINE_1':str, 'MAILING_ADDRESS_LINE_2':str, 'MAILING_ADDRESS_CITY':str, 'MAILING_ADDRESS_ZIP_POSTAL_CODE':str, 'MAILING_ADDRESS_ZIP_CODE_4':str, 'MAILING_ADDRESS_COUNTRY':str, 'MAILING_ADDRESS_STATE_OR_PROVINCE':str, 'GOVT_BUS_POC_FIRST_NAME':str, 'GOVT_BUS_POC_MIDDLE_INITIAL':str, 'GOVT_BUS_POC_LAST_NAME':str, 'GOVT_BUS_POC_TITLE':str, 'GOVT_BUS_POC_ST_ADD_1':str, 'GOVT_BUS_POC_ST_ADD_2':str, 'GOVT_BUS_POC_CITY':str, 'GOVT_BUS_POC_ZIP_POSTAL_CODE':str, 'GOVT_BUS_POC_ZIP_CODE_4':str, 'GOVT_BUS_POC_COUNTRY_CODE':str, 'GOVT_BUS_POC_STATE_OR_PROVINCE':str, 'GOVT_BUS_POC_U.S._PHONE':str, 'GOVT_BUS_POC_U.S._PHONE_EXT':str, 'GOVT_BUS_POC_NON-U.S._PHONE':str, 'GOVT_BUS_POC_FAX_U.S._ONLY':str, 'GOVT_BUS_POC_EMAIL':str, 'ALT_GOVT_BUS_POC_FIRST_NAME':str, 'ALT_GOVT_BUS_POC_MIDDLE_INITIAL':str, 'ALT_GOVT_BUS_POC_LAST_NAME':str, 'ALT_GOVT_BUS_POC_TITLE':str, 'ALT_GOVT_BUS_POC_ST_ADD_1':str, 'ALT_GOVT_BUS_POC_ST_ADD_2':str, 'ALT_GOVT_BUS_POC_CITY':str, 'ALT_GOVT_BUS_POC_ZIP_POSTAL_CODE':str, 'ALT_GOVT_BUS_POC_ZIP_CODE_4':str, 'ALT_GOVT_BUS_POC_COUNTRY_CODE':str, 'ALT_GOVT_BUS_POC_STATE_OR_PROVINCE':str, 'ALT_GOVT_BUS_POC_U.S._PHONE':str, 'ALT_GOVT_BUS_POC_U.S._PHONE_EXT':str, 'ALT_GOVT_BUS_POC_NON-U.S._PHONE':str, 'ALT_GOVT_BUS_POC_FAX_U.S._ONLY':str, 'ALT_GOVT_BUS_POC_EMAIL':str, 'PAST_PERF_POC_POC__FIRST_NAME':str, 'PAST_PERF_POC_POC__MIDDLE_INITIAL':str, 'PAST_PERF_POC_POC__LAST_NAME':str, 'PAST_PERF_POC_POC__TITLE':str, 'PAST_PERF_POC_ST_ADD_1':str, 'PAST_PERF_POC_ST_ADD_2':str, 'PAST_PERF_POC_CITY':str, 'PAST_PERF_POC_ZIP_POSTAL_CODE':str, 'PAST_PERF_POC_ZIP_CODE_4':str, 'PAST_PERF_POC_COUNTRY_CODE':str, 'PAST_PERF_POC_STATE_OR_PROVINCE':str, 'PAST_PERF_POC_U.S._PHONE':str, 'PAST_PERF_POC_U.S._PHONE_EXT':str, 'PAST_PERF_POC_NON-U.S._PHONE':str, 'PAST_PERF_POC_FAX_U.S._ONLY':str, 'PAST_PERF_POC_EMAIL':str, 'ALT_PAST_PERF_POC_FIRST_NAME':str, 'ALT_PAST_PERF_POC_MIDDLE_INITIAL':str, 'ALT_PAST_PERF_POC_LAST_NAME':str, 'ALT_PAST_PERF_POC_TITLE':str, 'ALT_PAST_PERF_POC_ST_ADD_1':str, 'ALT_PAST_PERF_POC_ST_ADD_2':str, 'ALT_PAST_PERF_POC_CITY':str, 'ALT_PAST_PERF_POC_ZIP_POSTAL_CODE':str, 'ALT_PAST_PERF_POC_ZIP_CODE_4':str, 'ALT_PAST_PERF_POC_COUNTRY_CODE':str, 'ALT_PAST_PERF_POC_STATE_OR_PROVINCE':str, 'ALT_PAST_PERF_POC_U.S._PHONE':str, 'ALT_PAST_PERF_POC_U.S._PHONE_EXT':str, 'ALT_PAST_PERF_POC_NON-U.S._PHONE':str, 'ALT_PAST_PERF_POC_FAX_U.S._ONLY':str, 'ALT_PAST_PERF_POC_EMAIL':str, 'ELEC_BUS_POC_FIRST_NAME':str, 'ELEC_BUS_POC_MIDDLE_INITIAL':str, 'ELEC_BUS_POC_LAST_NAME':str, 'ELEC_BUS_POC_TITLE':str, 'ELEC_BUS_POC_ST_ADD_1':str, 'ELEC_BUS_POC_ST_ADD_2':str, 'ELEC_BUS_POC_CITY':str, 'ELEC_BUS_POC_ZIP_POSTAL_CODE':str, 'ELEC_BUS_POC_ZIP_CODE_4':str, 'ELEC_BUS_POC_COUNTRY_CODE':str, 'ELEC_BUS_POC_STATE_OR_PROVINCE':str, 'ELEC_BUS_POC_U.S._PHONE':str, 'ELEC_BUS_POC_U.S._PHONE_EXT':str, 'ELEC_BUS_POC_NON-U.S._PHONE':str, 'ELEC_BUS_POC_FAX_U.S._ONLY':str, 'ELEC_BUS_POC_EMAIL':str, 'ALT_ELEC_POC_BUS_POC_FIRST_NAME':str, 'ALT_ELEC_POC_BUS_POC_MIDDLE_INITIAL':str, 'ALT_ELEC_POC_BUS_POC_LAST_NAME':str, 'ALT_ELEC_POC_BUS_POC_TITLE':str, 'ALT_ELEC_POC_BUS_ST_ADD_1':str, 'ALT_ELEC_POC_BUS_ST_ADD_2':str, 'ALT_ELEC_POC_BUS_CITY':str, 'ALT_ELEC_POC_BUS_ZIP_POSTAL_CODE':str, 'ALT_ELEC_POC_BUS_ZIP_CODE_4':str, 'ALT_ELEC_POC_BUS_COUNTRY_CODE':str, 'ALT_ELEC_POC_BUS_STATE_OR_PROVINCE':str, 'ALT_ELEC_POC_BUS_U.S._PHONE':str, 'ALT_ELEC_POC_BUS_U.S._PHONE_EXT':str, 'ALT_ELEC_POC_BUS_NON-U.S._PHONE':str, 'ALT_ELEC_POC_BUS_FAX_U.S._ONLY':str, 'ALT_ELEC_POC_BUS_EMAIL':str, 'NAICS_EXCEPTION_COUNTER':str, 'NAICS_EXCEPTION_STRING':str, 'DEBT_SUBJECT_TO_OFFSET_FLAG':str, 'EXCLUSION_STATUS_FLAG':str, 'SBA_BUSINESS_TYPES_COUNTER':int, 'SBA_BUSINESS_TYPES_STRING':str, 'NO_PUBLIC_DISPLAY_FLAG':str, 'DISASTER_RESPONSE_COUNTER':str, 'DISASTER_RESPONSE_STRING':str, 'END_OF_RECORD':str }\n"
   ]
  },
  {
   "cell_type": "markdown",
   "metadata": {},
   "source": [
    "Specify a subset of columns considered relevant for later analysis."
   ]
  },
  {
   "cell_type": "code",
   "execution_count": 36,
   "metadata": {},
   "outputs": [],
   "source": [
    "columnUseCols = ['CAGE_CODE', 'SAM_EXTRACT_CODE',\n",
    "                'PURPOSE_OF_REGISTRATION', 'INITIAL_REGISTRATION_DATE',\n",
    "                'PHYSICAL_ADDRESS_ZIP_POSTAL_CODE',\n",
    "                'ENTITY_CONGRESSIONAL_DISTRICT',\n",
    "                'BUSINESS_START_DATE', 'FISCAL_YEAR_END_CLOSE_DATE',\n",
    "                'ENTITY_STRUCTURE',\n",
    "                'STATE_OF_INCORPORATION', \n",
    "                'BUSINESS_TYPE_STRING',\n",
    "                'NAICS_CODE_STRING',\n",
    "                'PSC_CODE_STRING', 'CREDIT_CARD_USAGE',\n",
    "                'DEBT_SUBJECT_TO_OFFSET_FLAG',\n",
    "                'EXCLUSION_STATUS_FLAG', 'SBA_BUSINESS_TYPES_COUNTER',\n",
    "                'SBA_BUSINESS_TYPES_STRING']"
   ]
  },
  {
   "cell_type": "markdown",
   "metadata": {},
   "source": [
    "## Checking for Potential Problems\n",
    "\n",
    "Experience reading data from the public extract file indicates the need to specify a `quotechar` in `read_csv()` to ensure proper parsing of columns. The following command checks for existance of the `^` character in the file. If the file does contain a `^`, another character must be used. "
   ]
  },
  {
   "cell_type": "code",
   "execution_count": 37,
   "metadata": {},
   "outputs": [],
   "source": [
    "with open(inFileName, 'r') as f:\n",
    "    for line in f:\n",
    "        if ('^') in line:\n",
    "            print(\"Caret character found in file, try something else.\")"
   ]
  },
  {
   "cell_type": "markdown",
   "metadata": {},
   "source": [
    "If a `^` was found, test for other characters and replace the value for `quotechar` in `read_csv()` found in the next section."
   ]
  },
  {
   "cell_type": "markdown",
   "metadata": {},
   "source": [
    "## Reading the File\n"
   ]
  },
  {
   "cell_type": "code",
   "execution_count": 38,
   "metadata": {},
   "outputs": [],
   "source": [
    "df = pd.read_csv(inFileName,\n",
    "                    sep='|',  # indicates the file is pipe delimited\n",
    "                    index_col=False,    # the file does not have an index column\n",
    "                    header=None,    # the file does not have a header row\n",
    "                    names=columnNames,  # use these names for the columns\n",
    "                    skiprows=1,     # do not read the first row, it contains metadata about the file\n",
    "                    skipfooter=1,   # do not read the last row, it contains metadata about the file\n",
    "                    dtype=columnDTypes, # use the specified data types when reading the data\n",
    "                    quotechar=\"^\",  # prevents errant parsing of fields\n",
    "                    usecols=columnUseCols,  # keep only the specified columns\n",
    "                    engine='python')    # forces use of python engine "
   ]
  },
  {
   "cell_type": "code",
   "execution_count": 39,
   "metadata": {},
   "outputs": [
    {
     "data": {
      "text/plain": [
       "(656797, 18)"
      ]
     },
     "execution_count": 39,
     "metadata": {},
     "output_type": "execute_result"
    }
   ],
   "source": [
    "df.shape"
   ]
  },
  {
   "cell_type": "markdown",
   "metadata": {},
   "source": [
    "Verify that the dataframe contains the correct number of records as indicated by the metadata stored in the first row of the source data file."
   ]
  },
  {
   "cell_type": "code",
   "execution_count": 40,
   "metadata": {},
   "outputs": [
    {
     "data": {
      "text/plain": [
       "0    656797\n",
       "Name: 4, dtype: int64"
      ]
     },
     "execution_count": 40,
     "metadata": {},
     "output_type": "execute_result"
    }
   ],
   "source": [
    "pd.read_csv(inFileName,\n",
    "            sep=' ',    # specify space delimited fields\n",
    "            index_col=False,    # no index column\n",
    "            header=None,    # no header row\n",
    "            nrows=1 # read only one line\n",
    "            )[4]    # output the data found in the fifth field"
   ]
  },
  {
   "cell_type": "markdown",
   "metadata": {},
   "source": [
    "This number should match the number of rows reported by the `df.shape` output above."
   ]
  },
  {
   "cell_type": "markdown",
   "metadata": {},
   "source": [
    "## Filtering Out Irrelevant Records\n",
    "\n",
    "The following steps remove records from the dataframe, resulting in only those of interest in our analysis."
   ]
  },
  {
   "cell_type": "code",
   "execution_count": 41,
   "metadata": {},
   "outputs": [
    {
     "data": {
      "text/plain": [
       "(10641, 18)"
      ]
     },
     "execution_count": 41,
     "metadata": {},
     "output_type": "execute_result"
    }
   ],
   "source": [
    "# find all records where  'SBA_BUSINESS_TYPES_COUNTER' is greater than 0\n",
    "df = df[ df['SBA_BUSINESS_TYPES_COUNTER'] > 0 ]\n",
    "df.shape"
   ]
  },
  {
   "cell_type": "code",
   "execution_count": 42,
   "metadata": {},
   "outputs": [
    {
     "data": {
      "text/plain": [
       "(10270, 18)"
      ]
     },
     "execution_count": 42,
     "metadata": {},
     "output_type": "execute_result"
    }
   ],
   "source": [
    "# get records where SAM_EXTRACT_CODE is \"A\", remove all other records\n",
    "df = df[ df['SAM_EXTRACT_CODE'] == 'A']\n",
    "df.shape"
   ]
  },
  {
   "cell_type": "code",
   "execution_count": 43,
   "metadata": {},
   "outputs": [
    {
     "data": {
      "text/plain": [
       "(9875, 18)"
      ]
     },
     "execution_count": 43,
     "metadata": {},
     "output_type": "execute_result"
    }
   ],
   "source": [
    "# keep records where the entity is not subject to debt collection ('DEBT_SUBJECT_TO_OFFSET_FLAG' == \"N\")\n",
    "df = df[ df['DEBT_SUBJECT_TO_OFFSET_FLAG'] == 'N']\n",
    "df.shape"
   ]
  },
  {
   "cell_type": "code",
   "execution_count": 44,
   "metadata": {},
   "outputs": [
    {
     "data": {
      "text/plain": [
       "(9863, 18)"
      ]
     },
     "execution_count": 44,
     "metadata": {},
     "output_type": "execute_result"
    }
   ],
   "source": [
    "# remove records where PURPOSE_OF_REGISTRATION is different from Z2\n",
    "df = df[ df['PURPOSE_OF_REGISTRATION'] == 'Z2']\n",
    "df.shape"
   ]
  },
  {
   "cell_type": "code",
   "execution_count": 45,
   "metadata": {},
   "outputs": [
    {
     "data": {
      "text/plain": [
       "(9860, 18)"
      ]
     },
     "execution_count": 45,
     "metadata": {},
     "output_type": "execute_result"
    }
   ],
   "source": [
    "# remove records where the entity is excluded from doing business with the federal government\n",
    "df = df[ pd.isnull(df['EXCLUSION_STATUS_FLAG'])]\n",
    "df.shape"
   ]
  },
  {
   "cell_type": "markdown",
   "metadata": {},
   "source": [
    "Remove the columns used for filtering since they now contain equal values."
   ]
  },
  {
   "cell_type": "code",
   "execution_count": 46,
   "metadata": {},
   "outputs": [
    {
     "data": {
      "text/plain": [
       "(9860, 13)"
      ]
     },
     "execution_count": 46,
     "metadata": {},
     "output_type": "execute_result"
    }
   ],
   "source": [
    "df = df.drop(['SAM_EXTRACT_CODE', 'SBA_BUSINESS_TYPES_COUNTER', 'PURPOSE_OF_REGISTRATION', 'EXCLUSION_STATUS_FLAG', 'DEBT_SUBJECT_TO_OFFSET_FLAG'], axis='columns')\n",
    "df.shape"
   ]
  },
  {
   "cell_type": "markdown",
   "metadata": {},
   "source": [
    "## Saving the Data to a CSV File\n",
    "\n",
    "Output the dataframe to a file for use in subsequent analysis."
   ]
  },
  {
   "cell_type": "code",
   "execution_count": 47,
   "metadata": {},
   "outputs": [],
   "source": [
    "\n",
    "with open(\"1..SAMFilteredEntityData.csv\",'w') as f:\n",
    "    df.to_csv(f, index=False)\n"
   ]
  },
  {
   "cell_type": "code",
   "execution_count": null,
   "metadata": {},
   "outputs": [],
   "source": []
  }
 ],
 "metadata": {
  "file_extension": ".py",
  "kernelspec": {
   "display_name": "Python 3.7.4 64-bit ('base': conda)",
   "language": "python",
   "name": "python37464bitbasecondad9290302fb4146149042092cbe7bb910"
  },
  "language_info": {
   "codemirror_mode": {
    "name": "ipython",
    "version": 3
   },
   "file_extension": ".py",
   "mimetype": "text/x-python",
   "name": "python",
   "nbconvert_exporter": "python",
   "pygments_lexer": "ipython3",
   "version": "3.7.4"
  },
  "mimetype": "text/x-python",
  "name": "python",
  "npconvert_exporter": "python",
  "pygments_lexer": "ipython3",
  "version": 3
 },
 "nbformat": 4,
 "nbformat_minor": 2
}
