{
 "nbformat": 4,
 "nbformat_minor": 2,
 "metadata": {
  "language_info": {
   "name": "python",
   "codemirror_mode": {
    "name": "ipython",
    "version": 3
   },
   "version": "3.7.4-final"
  },
  "orig_nbformat": 2,
  "file_extension": ".py",
  "mimetype": "text/x-python",
  "name": "python",
  "npconvert_exporter": "python",
  "pygments_lexer": "ipython3",
  "version": 3,
  "kernelspec": {
   "name": "python37464bitbasecondad9290302fb4146149042092cbe7bb910",
   "display_name": "Python 3.7.4 64-bit ('base': conda)"
  }
 },
 "cells": [
  {
   "cell_type": "markdown",
   "execution_count": null,
   "metadata": {},
   "outputs": [],
   "source": [
    "# Initial Exploratory Data Analysis\n",
    "\n",
    "Using the filtered data set, investigate the need for any additional cleaning, manipulation, imputation, or other tasks keeping in mind the desire to format the data for scikit-learn clustering algorithms.\n",
    "\n",
    "## Preliminaries\n",
    "\n",
    "Load the libraries"
   ]
  },
  {
   "cell_type": "code",
   "execution_count": 123,
   "metadata": {},
   "outputs": [],
   "source": [
    "import pandas as pd\n",
    "import numpy as np\n",
    "import datetime\n",
    "from pandas_profiling import ProfileReport\n",
    "from pandas import CategoricalDtype\n"
   ]
  },
  {
   "cell_type": "code",
   "execution_count": 124,
   "metadata": {},
   "outputs": [],
   "source": [
    "# configure pandas to display all rows and columns without truncation\n",
    "pd.set_option('display.max_rows', None)\n",
    "pd.set_option('display.max_columns', None)\n",
    "pd.set_option('display.width', None)"
   ]
  },
  {
   "cell_type": "code",
   "execution_count": 125,
   "metadata": {},
   "outputs": [],
   "source": [
    "inFileName = \"1..SAMFilteredEntityData.csv\""
   ]
  },
  {
   "cell_type": "markdown",
   "execution_count": null,
   "metadata": {},
   "outputs": [],
   "source": [
    "Read the data, setting null values to empty strings with the `na_filter=False` option."
   ]
  },
  {
   "cell_type": "code",
   "execution_count": 126,
   "metadata": {},
   "outputs": [],
   "source": [
    "df = pd.read_csv(inFileName, na_filter=False)"
   ]
  },
  {
   "cell_type": "markdown",
   "execution_count": null,
   "metadata": {},
   "outputs": [],
   "source": [
    "Look at the number of rows and columns."
   ]
  },
  {
   "cell_type": "code",
   "execution_count": 127,
   "metadata": {},
   "outputs": [
    {
     "data": {
      "text/plain": "(9860, 13)"
     },
     "execution_count": 127,
     "metadata": {},
     "output_type": "execute_result"
    }
   ],
   "source": [
    "df.shape"
   ]
  },
  {
   "cell_type": "markdown",
   "execution_count": null,
   "metadata": {},
   "outputs": [],
   "source": [
    "Look at the data types `read_csv` used as defaults."
   ]
  },
  {
   "cell_type": "code",
   "execution_count": 128,
   "metadata": {},
   "outputs": [
    {
     "data": {
      "text/plain": "CAGE_CODE                           object\nINITIAL_REGISTRATION_DATE            int64\nPHYSICAL_ADDRESS_ZIP_POSTAL_CODE     int64\nENTITY_CONGRESSIONAL_DISTRICT        int64\nBUSINESS_START_DATE                  int64\nFISCAL_YEAR_END_CLOSE_DATE           int64\nENTITY_STRUCTURE                    object\nSTATE_OF_INCORPORATION              object\nBUSINESS_TYPE_STRING                object\nNAICS_CODE_STRING                   object\nPSC_CODE_STRING                     object\nCREDIT_CARD_USAGE                   object\nSBA_BUSINESS_TYPES_STRING           object\ndtype: object"
     },
     "execution_count": 128,
     "metadata": {},
     "output_type": "execute_result"
    }
   ],
   "source": [
    "df.dtypes"
   ]
  },
  {
   "cell_type": "code",
   "execution_count": 129,
   "metadata": {},
   "outputs": [
    {
     "data": {
      "text/html": "<div>\n<style scoped>\n    .dataframe tbody tr th:only-of-type {\n        vertical-align: middle;\n    }\n\n    .dataframe tbody tr th {\n        vertical-align: top;\n    }\n\n    .dataframe thead th {\n        text-align: right;\n    }\n</style>\n<table border=\"1\" class=\"dataframe\">\n  <thead>\n    <tr style=\"text-align: right;\">\n      <th></th>\n      <th>CAGE_CODE</th>\n      <th>INITIAL_REGISTRATION_DATE</th>\n      <th>PHYSICAL_ADDRESS_ZIP_POSTAL_CODE</th>\n      <th>ENTITY_CONGRESSIONAL_DISTRICT</th>\n      <th>BUSINESS_START_DATE</th>\n      <th>FISCAL_YEAR_END_CLOSE_DATE</th>\n      <th>ENTITY_STRUCTURE</th>\n      <th>STATE_OF_INCORPORATION</th>\n      <th>BUSINESS_TYPE_STRING</th>\n      <th>NAICS_CODE_STRING</th>\n      <th>PSC_CODE_STRING</th>\n      <th>CREDIT_CARD_USAGE</th>\n      <th>SBA_BUSINESS_TYPES_STRING</th>\n    </tr>\n  </thead>\n  <tbody>\n    <tr>\n      <th>0</th>\n      <td>3GUY7</td>\n      <td>20030725</td>\n      <td>54806</td>\n      <td>7</td>\n      <td>19781012</td>\n      <td>331</td>\n      <td>2L</td>\n      <td>WI</td>\n      <td>2X</td>\n      <td>221320Y~236220Y~238220Y~238910Y</td>\n      <td></td>\n      <td>N</td>\n      <td>XX</td>\n    </tr>\n    <tr>\n      <th>1</th>\n      <td>1TCA0</td>\n      <td>20020401</td>\n      <td>52806</td>\n      <td>2</td>\n      <td>20000605</td>\n      <td>1231</td>\n      <td>2L</td>\n      <td>IA</td>\n      <td>27~2X~8E~8W~A2~XS</td>\n      <td>425120Y~484110Y~484121Y~484122Y~484220Y~484230...</td>\n      <td>R602~V112~V129</td>\n      <td>Y</td>\n      <td>A620220819</td>\n    </tr>\n    <tr>\n      <th>2</th>\n      <td>1CK93</td>\n      <td>19971210</td>\n      <td>3570</td>\n      <td>2</td>\n      <td>19450101</td>\n      <td>1231</td>\n      <td>2L</td>\n      <td>NH</td>\n      <td>2X~XS</td>\n      <td>115310E~237310Y~321113Y~321912Y~321920Y~321999...</td>\n      <td>4010~5130~5305~5306~5310~5315~5510~5520~5530~6...</td>\n      <td>Y</td>\n      <td>XX</td>\n    </tr>\n    <tr>\n      <th>3</th>\n      <td>4Z748</td>\n      <td>20040816</td>\n      <td>5038</td>\n      <td>0</td>\n      <td>19570901</td>\n      <td>1231</td>\n      <td>2L</td>\n      <td>VT</td>\n      <td>2X~8W~A2~MF~XS</td>\n      <td>332119Y~332510Y~332618Y~332722Y~332999Y~333517...</td>\n      <td></td>\n      <td>N</td>\n      <td>XX</td>\n    </tr>\n    <tr>\n      <th>4</th>\n      <td>6V169</td>\n      <td>20010615</td>\n      <td>1089</td>\n      <td>1</td>\n      <td>19450915</td>\n      <td>1231</td>\n      <td>2J</td>\n      <td>MA</td>\n      <td>27~2X~MF~XS</td>\n      <td>331529Y</td>\n      <td>9530~9540</td>\n      <td>Y</td>\n      <td>XX</td>\n    </tr>\n  </tbody>\n</table>\n</div>",
      "text/plain": "  CAGE_CODE  INITIAL_REGISTRATION_DATE  PHYSICAL_ADDRESS_ZIP_POSTAL_CODE  \\\n0     3GUY7                   20030725                             54806   \n1     1TCA0                   20020401                             52806   \n2     1CK93                   19971210                              3570   \n3     4Z748                   20040816                              5038   \n4     6V169                   20010615                              1089   \n\n   ENTITY_CONGRESSIONAL_DISTRICT  BUSINESS_START_DATE  \\\n0                              7             19781012   \n1                              2             20000605   \n2                              2             19450101   \n3                              0             19570901   \n4                              1             19450915   \n\n   FISCAL_YEAR_END_CLOSE_DATE ENTITY_STRUCTURE STATE_OF_INCORPORATION  \\\n0                         331               2L                     WI   \n1                        1231               2L                     IA   \n2                        1231               2L                     NH   \n3                        1231               2L                     VT   \n4                        1231               2J                     MA   \n\n  BUSINESS_TYPE_STRING                                  NAICS_CODE_STRING  \\\n0                   2X                    221320Y~236220Y~238220Y~238910Y   \n1    27~2X~8E~8W~A2~XS  425120Y~484110Y~484121Y~484122Y~484220Y~484230...   \n2                2X~XS  115310E~237310Y~321113Y~321912Y~321920Y~321999...   \n3       2X~8W~A2~MF~XS  332119Y~332510Y~332618Y~332722Y~332999Y~333517...   \n4          27~2X~MF~XS                                            331529Y   \n\n                                     PSC_CODE_STRING CREDIT_CARD_USAGE  \\\n0                                                                    N   \n1                                     R602~V112~V129                 Y   \n2  4010~5130~5305~5306~5310~5315~5510~5520~5530~6...                 Y   \n3                                                                    N   \n4                                          9530~9540                 Y   \n\n  SBA_BUSINESS_TYPES_STRING  \n0                XX          \n1                A620220819  \n2                XX          \n3                XX          \n4                XX          "
     },
     "execution_count": 129,
     "metadata": {},
     "output_type": "execute_result"
    }
   ],
   "source": [
    "df.head()"
   ]
  },
  {
   "cell_type": "markdown",
   "execution_count": null,
   "metadata": {},
   "outputs": [],
   "source": [
    "## Observations\n",
    "\n",
    "- PHYSICAL_ADDRESS_ZIP_POSTAL_CODE lost the leading zeroes and needs coersion to a string\n",
    "- INITIAL_REGISTRATION_DATE and BUSINESS_START_DATE fields need coersion to datetime\n",
    "- FISCAL_YEAR_END_CLOSE_DATE requires some thought\n",
    "- BUSINESS_TYPE_STRING, NAICS_CODE_STRING, and PSC_CODE_STRING require binarization\n",
    "- SBA_BUSINESS_TYPES_STRING requires investigation\n",
    "- All others need coersion to a categorical type\n"
   ]
  },
  {
   "cell_type": "markdown",
   "execution_count": null,
   "metadata": {},
   "outputs": [],
   "source": [
    "## Dealing with Loss of Leading Zeroes in the Zip Code"
   ]
  },
  {
   "cell_type": "code",
   "execution_count": 140,
   "metadata": {},
   "outputs": [
    {
     "data": {
      "text/plain": "CAGE_CODE                           object\nINITIAL_REGISTRATION_DATE            int64\nPHYSICAL_ADDRESS_ZIP_POSTAL_CODE    object\nENTITY_CONGRESSIONAL_DISTRICT        int64\nBUSINESS_START_DATE                  int64\nFISCAL_YEAR_END_CLOSE_DATE           int64\nENTITY_STRUCTURE                    object\nSTATE_OF_INCORPORATION              object\nBUSINESS_TYPE_STRING                object\nNAICS_CODE_STRING                   object\nPSC_CODE_STRING                     object\nCREDIT_CARD_USAGE                   object\nSBA_BUSINESS_TYPES_STRING           object\ndtype: object"
     },
     "execution_count": 140,
     "metadata": {},
     "output_type": "execute_result"
    }
   ],
   "source": [
    "df = pd.read_csv(inFileName, na_filter=False, dtype={'PHYSICAL_ADDRESS_ZIP_POSTAL_CODE' : str}, engine='python')\n",
    "df.dtypes"
   ]
  },
  {
   "cell_type": "code",
   "execution_count": 141,
   "metadata": {},
   "outputs": [
    {
     "data": {
      "text/html": "<div>\n<style scoped>\n    .dataframe tbody tr th:only-of-type {\n        vertical-align: middle;\n    }\n\n    .dataframe tbody tr th {\n        vertical-align: top;\n    }\n\n    .dataframe thead th {\n        text-align: right;\n    }\n</style>\n<table border=\"1\" class=\"dataframe\">\n  <thead>\n    <tr style=\"text-align: right;\">\n      <th></th>\n      <th>CAGE_CODE</th>\n      <th>INITIAL_REGISTRATION_DATE</th>\n      <th>PHYSICAL_ADDRESS_ZIP_POSTAL_CODE</th>\n      <th>ENTITY_CONGRESSIONAL_DISTRICT</th>\n      <th>BUSINESS_START_DATE</th>\n      <th>FISCAL_YEAR_END_CLOSE_DATE</th>\n      <th>ENTITY_STRUCTURE</th>\n      <th>STATE_OF_INCORPORATION</th>\n      <th>BUSINESS_TYPE_STRING</th>\n      <th>NAICS_CODE_STRING</th>\n      <th>PSC_CODE_STRING</th>\n      <th>CREDIT_CARD_USAGE</th>\n      <th>SBA_BUSINESS_TYPES_STRING</th>\n    </tr>\n  </thead>\n  <tbody>\n    <tr>\n      <th>0</th>\n      <td>3GUY7</td>\n      <td>20030725</td>\n      <td>54806</td>\n      <td>7</td>\n      <td>19781012</td>\n      <td>331</td>\n      <td>2L</td>\n      <td>WI</td>\n      <td>2X</td>\n      <td>221320Y~236220Y~238220Y~238910Y</td>\n      <td></td>\n      <td>N</td>\n      <td>XX</td>\n    </tr>\n    <tr>\n      <th>1</th>\n      <td>1TCA0</td>\n      <td>20020401</td>\n      <td>52806</td>\n      <td>2</td>\n      <td>20000605</td>\n      <td>1231</td>\n      <td>2L</td>\n      <td>IA</td>\n      <td>27~2X~8E~8W~A2~XS</td>\n      <td>425120Y~484110Y~484121Y~484122Y~484220Y~484230...</td>\n      <td>R602~V112~V129</td>\n      <td>Y</td>\n      <td>A620220819</td>\n    </tr>\n    <tr>\n      <th>2</th>\n      <td>1CK93</td>\n      <td>19971210</td>\n      <td>03570</td>\n      <td>2</td>\n      <td>19450101</td>\n      <td>1231</td>\n      <td>2L</td>\n      <td>NH</td>\n      <td>2X~XS</td>\n      <td>115310E~237310Y~321113Y~321912Y~321920Y~321999...</td>\n      <td>4010~5130~5305~5306~5310~5315~5510~5520~5530~6...</td>\n      <td>Y</td>\n      <td>XX</td>\n    </tr>\n    <tr>\n      <th>3</th>\n      <td>4Z748</td>\n      <td>20040816</td>\n      <td>05038</td>\n      <td>0</td>\n      <td>19570901</td>\n      <td>1231</td>\n      <td>2L</td>\n      <td>VT</td>\n      <td>2X~8W~A2~MF~XS</td>\n      <td>332119Y~332510Y~332618Y~332722Y~332999Y~333517...</td>\n      <td></td>\n      <td>N</td>\n      <td>XX</td>\n    </tr>\n    <tr>\n      <th>4</th>\n      <td>6V169</td>\n      <td>20010615</td>\n      <td>01089</td>\n      <td>1</td>\n      <td>19450915</td>\n      <td>1231</td>\n      <td>2J</td>\n      <td>MA</td>\n      <td>27~2X~MF~XS</td>\n      <td>331529Y</td>\n      <td>9530~9540</td>\n      <td>Y</td>\n      <td>XX</td>\n    </tr>\n  </tbody>\n</table>\n</div>",
      "text/plain": "  CAGE_CODE  INITIAL_REGISTRATION_DATE PHYSICAL_ADDRESS_ZIP_POSTAL_CODE  \\\n0     3GUY7                   20030725                            54806   \n1     1TCA0                   20020401                            52806   \n2     1CK93                   19971210                            03570   \n3     4Z748                   20040816                            05038   \n4     6V169                   20010615                            01089   \n\n   ENTITY_CONGRESSIONAL_DISTRICT  BUSINESS_START_DATE  \\\n0                              7             19781012   \n1                              2             20000605   \n2                              2             19450101   \n3                              0             19570901   \n4                              1             19450915   \n\n   FISCAL_YEAR_END_CLOSE_DATE ENTITY_STRUCTURE STATE_OF_INCORPORATION  \\\n0                         331               2L                     WI   \n1                        1231               2L                     IA   \n2                        1231               2L                     NH   \n3                        1231               2L                     VT   \n4                        1231               2J                     MA   \n\n  BUSINESS_TYPE_STRING                                  NAICS_CODE_STRING  \\\n0                   2X                    221320Y~236220Y~238220Y~238910Y   \n1    27~2X~8E~8W~A2~XS  425120Y~484110Y~484121Y~484122Y~484220Y~484230...   \n2                2X~XS  115310E~237310Y~321113Y~321912Y~321920Y~321999...   \n3       2X~8W~A2~MF~XS  332119Y~332510Y~332618Y~332722Y~332999Y~333517...   \n4          27~2X~MF~XS                                            331529Y   \n\n                                     PSC_CODE_STRING CREDIT_CARD_USAGE  \\\n0                                                                    N   \n1                                     R602~V112~V129                 Y   \n2  4010~5130~5305~5306~5310~5315~5510~5520~5530~6...                 Y   \n3                                                                    N   \n4                                          9530~9540                 Y   \n\n  SBA_BUSINESS_TYPES_STRING  \n0                XX          \n1                A620220819  \n2                XX          \n3                XX          \n4                XX          "
     },
     "execution_count": 141,
     "metadata": {},
     "output_type": "execute_result"
    }
   ],
   "source": [
    "df.head()"
   ]
  },
  {
   "cell_type": "markdown",
   "execution_count": null,
   "metadata": {},
   "outputs": [],
   "source": [
    "## Dealing with the Date Fields\n",
    "\n",
    "\n",
    "\n",
    "\n",
    "\n"
   ]
  },
  {
   "cell_type": "code",
   "execution_count": 142,
   "metadata": {},
   "outputs": [],
   "source": [
    "df['BUSINESS_START_DATE'] = pd.to_datetime(df.BUSINESS_START_DATE, format='%Y%m%d', errors='coerce')\n",
    "df['INITIAL_REGISTRATION_DATE'] = pd.to_datetime(df.BUSINESS_START_DATE, format='%Y%m%d', errors='coerce')"
   ]
  },
  {
   "cell_type": "code",
   "execution_count": 143,
   "metadata": {},
   "outputs": [
    {
     "data": {
      "text/plain": "CAGE_CODE                                   object\nINITIAL_REGISTRATION_DATE           datetime64[ns]\nPHYSICAL_ADDRESS_ZIP_POSTAL_CODE            object\nENTITY_CONGRESSIONAL_DISTRICT                int64\nBUSINESS_START_DATE                 datetime64[ns]\nFISCAL_YEAR_END_CLOSE_DATE                   int64\nENTITY_STRUCTURE                            object\nSTATE_OF_INCORPORATION                      object\nBUSINESS_TYPE_STRING                        object\nNAICS_CODE_STRING                           object\nPSC_CODE_STRING                             object\nCREDIT_CARD_USAGE                           object\nSBA_BUSINESS_TYPES_STRING                   object\ndtype: object"
     },
     "execution_count": 143,
     "metadata": {},
     "output_type": "execute_result"
    }
   ],
   "source": [
    "df.dtypes"
   ]
  },
  {
   "cell_type": "markdown",
   "execution_count": null,
   "metadata": {},
   "outputs": [],
   "source": [
    "## Dealing with the Categorical Variables\n",
    "\n",
    "The following fields should be considered categorical data:\n",
    "\n",
    "- CAGE_CODE\n",
    "- PHYSICAL_ADDRESS_ZIP_POSTAL_CODE\n",
    "- ENTITY_CONGRESSIONAL_DISTRICT \n",
    "- BUSINESS_START_DATE \n",
    "- FISCAL_YEAR_END_CLOSE_DATE  \n",
    "- ENTITY_STRUCTURE    \n",
    "- STATE_OF_INCORPORATION           \n",
    "- CREDIT_CARD_USAGE           \n"
   ]
  },
  {
   "cell_type": "code",
   "execution_count": 145,
   "metadata": {},
   "outputs": [
    {
     "data": {
      "text/plain": "CAGE_CODE                                 category\nINITIAL_REGISTRATION_DATE           datetime64[ns]\nPHYSICAL_ADDRESS_ZIP_POSTAL_CODE          category\nENTITY_CONGRESSIONAL_DISTRICT             category\nBUSINESS_START_DATE                 datetime64[ns]\nFISCAL_YEAR_END_CLOSE_DATE                category\nENTITY_STRUCTURE                          category\nSTATE_OF_INCORPORATION                    category\nBUSINESS_TYPE_STRING                        object\nNAICS_CODE_STRING                           object\nPSC_CODE_STRING                             object\nCREDIT_CARD_USAGE                         category\nSBA_BUSINESS_TYPES_STRING                   object\ndtype: object"
     },
     "execution_count": 145,
     "metadata": {},
     "output_type": "execute_result"
    }
   ],
   "source": [
    "df['CAGE_CODE'] = df['CAGE_CODE'].astype('category')\n",
    "df['PHYSICAL_ADDRESS_ZIP_POSTAL_CODE'] = df['PHYSICAL_ADDRESS_ZIP_POSTAL_CODE'].astype('category')\n",
    "df['ENTITY_CONGRESSIONAL_DISTRICT'] = df['ENTITY_CONGRESSIONAL_DISTRICT'].astype('category')\n",
    "df['FISCAL_YEAR_END_CLOSE_DATE'] = df['FISCAL_YEAR_END_CLOSE_DATE'].astype('category')\n",
    "df['ENTITY_STRUCTURE'] = df['ENTITY_STRUCTURE'].astype('category')\n",
    "df['STATE_OF_INCORPORATION'] = df['STATE_OF_INCORPORATION'].astype('category')\n",
    "df['CREDIT_CARD_USAGE'] = df['CREDIT_CARD_USAGE'].astype('category')\n",
    "       \n",
    "df.dtypes"
   ]
  },
  {
   "cell_type": "code",
   "execution_count": 146,
   "metadata": {},
   "outputs": [
    {
     "data": {
      "text/html": "<div>\n<style scoped>\n    .dataframe tbody tr th:only-of-type {\n        vertical-align: middle;\n    }\n\n    .dataframe tbody tr th {\n        vertical-align: top;\n    }\n\n    .dataframe thead th {\n        text-align: right;\n    }\n</style>\n<table border=\"1\" class=\"dataframe\">\n  <thead>\n    <tr style=\"text-align: right;\">\n      <th></th>\n      <th>CAGE_CODE</th>\n      <th>INITIAL_REGISTRATION_DATE</th>\n      <th>PHYSICAL_ADDRESS_ZIP_POSTAL_CODE</th>\n      <th>ENTITY_CONGRESSIONAL_DISTRICT</th>\n      <th>BUSINESS_START_DATE</th>\n      <th>FISCAL_YEAR_END_CLOSE_DATE</th>\n      <th>ENTITY_STRUCTURE</th>\n      <th>STATE_OF_INCORPORATION</th>\n      <th>BUSINESS_TYPE_STRING</th>\n      <th>NAICS_CODE_STRING</th>\n      <th>PSC_CODE_STRING</th>\n      <th>CREDIT_CARD_USAGE</th>\n      <th>SBA_BUSINESS_TYPES_STRING</th>\n    </tr>\n  </thead>\n  <tbody>\n    <tr>\n      <th>0</th>\n      <td>3GUY7</td>\n      <td>1978-10-12</td>\n      <td>54806</td>\n      <td>7</td>\n      <td>1978-10-12</td>\n      <td>331</td>\n      <td>2L</td>\n      <td>WI</td>\n      <td>2X</td>\n      <td>221320Y~236220Y~238220Y~238910Y</td>\n      <td></td>\n      <td>N</td>\n      <td>XX</td>\n    </tr>\n    <tr>\n      <th>1</th>\n      <td>1TCA0</td>\n      <td>2000-06-05</td>\n      <td>52806</td>\n      <td>2</td>\n      <td>2000-06-05</td>\n      <td>1231</td>\n      <td>2L</td>\n      <td>IA</td>\n      <td>27~2X~8E~8W~A2~XS</td>\n      <td>425120Y~484110Y~484121Y~484122Y~484220Y~484230...</td>\n      <td>R602~V112~V129</td>\n      <td>Y</td>\n      <td>A620220819</td>\n    </tr>\n    <tr>\n      <th>2</th>\n      <td>1CK93</td>\n      <td>1945-01-01</td>\n      <td>03570</td>\n      <td>2</td>\n      <td>1945-01-01</td>\n      <td>1231</td>\n      <td>2L</td>\n      <td>NH</td>\n      <td>2X~XS</td>\n      <td>115310E~237310Y~321113Y~321912Y~321920Y~321999...</td>\n      <td>4010~5130~5305~5306~5310~5315~5510~5520~5530~6...</td>\n      <td>Y</td>\n      <td>XX</td>\n    </tr>\n    <tr>\n      <th>3</th>\n      <td>4Z748</td>\n      <td>1957-09-01</td>\n      <td>05038</td>\n      <td>0</td>\n      <td>1957-09-01</td>\n      <td>1231</td>\n      <td>2L</td>\n      <td>VT</td>\n      <td>2X~8W~A2~MF~XS</td>\n      <td>332119Y~332510Y~332618Y~332722Y~332999Y~333517...</td>\n      <td></td>\n      <td>N</td>\n      <td>XX</td>\n    </tr>\n    <tr>\n      <th>4</th>\n      <td>6V169</td>\n      <td>1945-09-15</td>\n      <td>01089</td>\n      <td>1</td>\n      <td>1945-09-15</td>\n      <td>1231</td>\n      <td>2J</td>\n      <td>MA</td>\n      <td>27~2X~MF~XS</td>\n      <td>331529Y</td>\n      <td>9530~9540</td>\n      <td>Y</td>\n      <td>XX</td>\n    </tr>\n  </tbody>\n</table>\n</div>",
      "text/plain": "  CAGE_CODE INITIAL_REGISTRATION_DATE PHYSICAL_ADDRESS_ZIP_POSTAL_CODE  \\\n0     3GUY7                1978-10-12                            54806   \n1     1TCA0                2000-06-05                            52806   \n2     1CK93                1945-01-01                            03570   \n3     4Z748                1957-09-01                            05038   \n4     6V169                1945-09-15                            01089   \n\n  ENTITY_CONGRESSIONAL_DISTRICT BUSINESS_START_DATE  \\\n0                             7          1978-10-12   \n1                             2          2000-06-05   \n2                             2          1945-01-01   \n3                             0          1957-09-01   \n4                             1          1945-09-15   \n\n  FISCAL_YEAR_END_CLOSE_DATE ENTITY_STRUCTURE STATE_OF_INCORPORATION  \\\n0                        331               2L                     WI   \n1                       1231               2L                     IA   \n2                       1231               2L                     NH   \n3                       1231               2L                     VT   \n4                       1231               2J                     MA   \n\n  BUSINESS_TYPE_STRING                                  NAICS_CODE_STRING  \\\n0                   2X                    221320Y~236220Y~238220Y~238910Y   \n1    27~2X~8E~8W~A2~XS  425120Y~484110Y~484121Y~484122Y~484220Y~484230...   \n2                2X~XS  115310E~237310Y~321113Y~321912Y~321920Y~321999...   \n3       2X~8W~A2~MF~XS  332119Y~332510Y~332618Y~332722Y~332999Y~333517...   \n4          27~2X~MF~XS                                            331529Y   \n\n                                     PSC_CODE_STRING CREDIT_CARD_USAGE  \\\n0                                                                    N   \n1                                     R602~V112~V129                 Y   \n2  4010~5130~5305~5306~5310~5315~5510~5520~5530~6...                 Y   \n3                                                                    N   \n4                                          9530~9540                 Y   \n\n  SBA_BUSINESS_TYPES_STRING  \n0                XX          \n1                A620220819  \n2                XX          \n3                XX          \n4                XX          "
     },
     "execution_count": 146,
     "metadata": {},
     "output_type": "execute_result"
    }
   ],
   "source": [
    "df.head()"
   ]
  },
  {
   "cell_type": "markdown",
   "execution_count": null,
   "metadata": {},
   "outputs": [],
   "source": [
    "## Next Steps\n",
    "\n",
    "Add ProfileReport here and see where that leads.\n",
    "\n",
    "Further analysis captured in seperate notebooks require the same preprocessing steps. Need to figure out the best method for optimizing that.\n",
    "\n",
    "The *STRING columns require binarization. When and where should that be done?"
   ]
  },
  {
   "cell_type": "code",
   "execution_count": null,
   "metadata": {},
   "outputs": [],
   "source": []
  }
 ]
}